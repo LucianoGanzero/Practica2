{
 "cells": [
  {
   "cell_type": "code",
   "execution_count": 2,
   "id": "1c01dc86",
   "metadata": {},
   "outputs": [],
   "source": [
    "nombres = open ('nombres_1.txt','r')\n",
    "eva1 = open('eval1.txt','r')\n",
    "eva2 = open ('eval2.txt','r')\n",
    "\n",
    "lista_nombres= nombres.read().split(sep=\",\\n \")\n",
    "lista_eva1= eva1.read().split(sep=\",\\n \")\n",
    "lista_eva2= eva2.read().split(sep=\",\\n \")\n",
    "\n",
    "for x in range(len(lista_nombres)):\n",
    "    lista_nombres[x]=lista_nombres[x][1:-1].lower()"
   ]
  },
  {
   "cell_type": "markdown",
   "id": "8f826e7a",
   "metadata": {},
   "source": [
    "* Leo todos los archivos y guardo su contenido en 3 listas\n",
    "* Manipulo la lista de nombres para que me quede comoda, sin caracteres adicionales y solo con los nombres en minuscula"
   ]
  },
  {
   "cell_type": "code",
   "execution_count": 3,
   "id": "8554f8aa",
   "metadata": {},
   "outputs": [],
   "source": [
    "def modificar_duplicados(lista):\n",
    "    for x in range(len(lista)-1):\n",
    "        if lista[x]==lista[x+1]:\n",
    "            indice=x\n",
    "            nombre=lista[x]\n",
    "            agrego =1\n",
    "            while ((nombre==lista[indice]) and (indice<len(lista)-1)):\n",
    "                lista[indice]=nombre+str(agrego)\n",
    "                agrego=agrego+1\n",
    "                indice=indice+1                \n",
    "    return lista\n",
    "\n",
    "modificar_duplicados(lista_nombres);"
   ]
  },
  {
   "cell_type": "markdown",
   "id": "451b2a33",
   "metadata": {},
   "source": [
    "* Armo una funcion para distinguir los nombres repetidos, agregandole un numero al final\n",
    "\n",
    "## Ejercicio 1"
   ]
  },
  {
   "cell_type": "code",
   "execution_count": 4,
   "id": "7932eb59",
   "metadata": {},
   "outputs": [
    {
     "name": "stdout",
     "output_type": "stream",
     "text": [
      "El alumno Agustin sumo un total de 111 puntos\n",
      "El alumno Alan sumo un total de 155 puntos\n",
      "El alumno Andres sumo un total de 100 puntos\n",
      "El alumno Ariadna sumo un total de 108 puntos\n",
      "El alumno Bautista sumo un total de 99 puntos\n",
      "El alumno Carolina sumo un total de 134 puntos\n",
      "El alumno Cesar sumo un total de 78 puntos\n",
      "El alumno David sumo un total de 121 puntos\n",
      "El alumno Diego sumo un total de 33 puntos\n",
      "El alumno Dolores sumo un total de 53 puntos\n",
      "El alumno Dylan sumo un total de 74 puntos\n",
      "El alumno Eliana sumo un total de 13 puntos\n",
      "El alumno Emanuel sumo un total de 48 puntos\n",
      "El alumno Fabian sumo un total de 101 puntos\n",
      "El alumno Facundo1 sumo un total de 106 puntos\n",
      "El alumno Facundo2 sumo un total de 128 puntos\n",
      "El alumno Federico1 sumo un total de 97 puntos\n",
      "El alumno Federico2 sumo un total de 106 puntos\n",
      "El alumno Gonzalo sumo un total de 76 puntos\n",
      "El alumno Gregorio sumo un total de 90 puntos\n",
      "El alumno Ignacio sumo un total de 21 puntos\n",
      "El alumno Jonathan1 sumo un total de 173 puntos\n",
      "El alumno Jonathan2 sumo un total de 62 puntos\n",
      "El alumno Jorge sumo un total de 79 puntos\n",
      "El alumno Jose sumo un total de 100 puntos\n",
      "El alumno Juan1 sumo un total de 68 puntos\n",
      "El alumno Juan2 sumo un total de 142 puntos\n",
      "El alumno Juan3 sumo un total de 112 puntos\n",
      "El alumno Julian sumo un total de 87 puntos\n",
      "El alumno Julieta sumo un total de 146 puntos\n",
      "El alumno Lautaro sumo un total de 148 puntos\n",
      "El alumno Leonel sumo un total de 55 puntos\n",
      "El alumno Luis1 sumo un total de 140 puntos\n",
      "El alumno Luis2 sumo un total de 109 puntos\n",
      "El alumno Marcos sumo un total de 103 puntos\n",
      "El alumno Maria sumo un total de 110 puntos\n",
      "El alumno Mateo sumo un total de 137 puntos\n",
      "El alumno Matias sumo un total de 114 puntos\n",
      "El alumno Nicolã¡s sumo un total de 65 puntos\n",
      "El alumno Nicolas sumo un total de 22 puntos\n",
      "El alumno Noelia sumo un total de 105 puntos\n",
      "El alumno Pablo sumo un total de 99 puntos\n",
      "El alumno Priscila sumo un total de 24 puntos\n",
      "El alumno Tomas1 sumo un total de 139 puntos\n",
      "El alumno Tomas2 sumo un total de 126 puntos\n",
      "El alumno Ulises sumo un total de 120 puntos\n",
      "El alumno Yanina sumo un total de 84 puntos\n"
     ]
    }
   ],
   "source": [
    "mis_notas = dict([(lista_nombres[i],int(lista_eva1[i])+int(lista_eva2[i])) for i in range(len(lista_nombres))])\n",
    "\n",
    "total=0\n",
    "for elem in mis_notas:\n",
    "    total=total+mis_notas[elem]\n",
    "    print(f\"El alumno {elem.capitalize()} sumo un total de {mis_notas[elem]} puntos\")"
   ]
  },
  {
   "cell_type": "markdown",
   "id": "391d3501",
   "metadata": {},
   "source": [
    "* Creo un diccionario al que le paso como parametros la lista de nombres para las claves, y la suma de las dos evaluaciones como valor, previamente transformadas a enteros\n",
    "* La imprimo \n",
    "* Aprovecho el recorrido para sumar el total de las notas\n",
    "\n",
    "## Ejercicio 2"
   ]
  },
  {
   "cell_type": "code",
   "execution_count": null,
   "id": "ed2e6a5e",
   "metadata": {},
   "outputs": [],
   "source": [
    "promedio = total/len(mis_notas)\n",
    "\n",
    "print(\"Los siguientes alumnos no alcanzaron el promedio de {:.2f}\".format(promedio))\n",
    "for elem in mis_notas:\n",
    "    if (mis_notas[elem]<int(promedio)):\n",
    "        print(f\"{elem.capitalize()} sumo {mis_notas[elem]}\")"
   ]
  },
  {
   "cell_type": "code",
   "execution_count": null,
   "id": "366992a6",
   "metadata": {},
   "outputs": [],
   "source": []
  }
 ],
 "metadata": {
  "kernelspec": {
   "display_name": "Python 3 (ipykernel)",
   "language": "python",
   "name": "python3"
  },
  "language_info": {
   "codemirror_mode": {
    "name": "ipython",
    "version": 3
   },
   "file_extension": ".py",
   "mimetype": "text/x-python",
   "name": "python",
   "nbconvert_exporter": "python",
   "pygments_lexer": "ipython3",
   "version": "3.10.0"
  }
 },
 "nbformat": 4,
 "nbformat_minor": 5
}
