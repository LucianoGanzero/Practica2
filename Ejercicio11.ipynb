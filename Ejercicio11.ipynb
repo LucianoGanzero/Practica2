{
 "cells": [
  {
   "cell_type": "markdown",
   "id": "6283e355",
   "metadata": {},
   "source": [
    "# Ejercicio 11\n",
    "\n",
    "### Inciso 1"
   ]
  },
  {
   "cell_type": "code",
   "execution_count": 1,
   "id": "ad855c2e",
   "metadata": {},
   "outputs": [],
   "source": [
    "nombres1 = open('nombres_1.txt','r')\n",
    "nombres2 = open('nombres_2.txt','r')\n",
    "\n",
    "lista1 = nombres1.read().split(sep=\",\\n \")\n",
    "lista2 = nombres2.read().split(sep=\",\\n \")\n",
    "\n",
    "for x in range(len(lista1)):\n",
    "    lista1[x] = lista1[x][1:-1].lower()\n",
    "for x in range(len(lista2)):\n",
    "    lista2[x] = lista2[x][1:-1].lower()\n"
   ]
  },
  {
   "cell_type": "markdown",
   "id": "3bcdd33e",
   "metadata": {},
   "source": [
    "* Comienzo abriendo ambos archivos de texto y pasando el contenido a dos listas distintas\n",
    "* Luego manipulo los strings guardados para que solo me quede texto en minusculas"
   ]
  },
  {
   "cell_type": "code",
   "execution_count": 9,
   "id": "11ec5a72",
   "metadata": {},
   "outputs": [
    {
     "name": "stdout",
     "output_type": "stream",
     "text": [
      "Los nombres que se encuentran en ambas listas son : \n",
      "mateo\n",
      "federico\n",
      "diego\n",
      "bautista\n",
      "juan\n",
      "lautaro\n",
      "nicolas\n",
      "agustin\n",
      "ignacio\n",
      "ulises\n",
      "eliana\n",
      "cesar\n",
      "jose\n",
      "facundo\n",
      "marcos\n",
      "matias\n"
     ]
    }
   ],
   "source": [
    "nueva_lista = set([x for x in lista1 if x in lista2])\n",
    "print (\"Los nombres que se encuentran en ambas listas son : \")\n",
    "print (*(nueva_lista), sep =\"\\n\")"
   ]
  },
  {
   "cell_type": "markdown",
   "id": "dea43e0b",
   "metadata": {},
   "source": [
    "* Defino una nueva lista por compresion donde se va a iterar sobre una lista y solo va a guardar los elementos de esta que se encuentran en la otra lista, en la lista2\n",
    "* Defino esa nueva lista creada como un conjunto porque de otra manera me guardaria por mas de una vez los nombres repetidos en la lista 1. Intente hacerlo con una doble condicion en la lista por comprension para mantener el orden alfabetico, pero no pude\n",
    "* Informo la lista imprimiendola mediante un asterico, que separa cada elemento de la lista por el caracter que le indicio como segundo parametro, en este caso un salto de linea\n",
    "\n",
    "### Inciso 2"
   ]
  },
  {
   "cell_type": "code",
   "execution_count": null,
   "id": "670e9b81",
   "metadata": {},
   "outputs": [],
   "source": [
    "eva1 = open('eval1.txt','r')\n",
    "eva2 = open ('eval2.txt','r')\n",
    "lista_eva1= eva1.read().split(sep=\",\\n \")\n",
    "lista_eva2= eva2.read().split(sep=\",\\n \")\n",
    "\n",
    "print (f\"{'':<3}{'Nombre':<14}{'Eval1':^8}{'Eval2':^8}{'Total':^8}\")\n",
    "for x in range(len(lista1)):\n",
    "    suma = int(lista_eva1[x])+int(lista_eva2[x])\n",
    "    print (f\"{x:<3}{lista1[x].capitalize():<14}{lista_eva1[x]:>4}{lista_eva2[x]:>8}{suma:>9}\")\n",
    "\n"
   ]
  },
  {
   "cell_type": "markdown",
   "id": "7dbb45d4",
   "metadata": {},
   "source": [
    "* Abro los archivos con las notas y los cargo en listas con la misma logica que el de nombres, dejando solo los caracteres de numeros\n",
    "* Imprimo el encabezado de las listas y con un criterio de ordenamiento lo mas parecido posible para que quede alineado itero e imprimo los nombres, los resultados de ambas pruebas y la suma, previamente calculado en la interacion"
   ]
  }
 ],
 "metadata": {
  "kernelspec": {
   "display_name": "Python 3 (ipykernel)",
   "language": "python",
   "name": "python3"
  },
  "language_info": {
   "codemirror_mode": {
    "name": "ipython",
    "version": 3
   },
   "file_extension": ".py",
   "mimetype": "text/x-python",
   "name": "python",
   "nbconvert_exporter": "python",
   "pygments_lexer": "ipython3",
   "version": "3.10.0"
  }
 },
 "nbformat": 4,
 "nbformat_minor": 5
}
